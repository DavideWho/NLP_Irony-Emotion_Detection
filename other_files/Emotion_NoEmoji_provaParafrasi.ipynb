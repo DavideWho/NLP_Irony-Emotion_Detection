{
  "cells": [
    {
      "cell_type": "code",
      "execution_count": 1,
      "metadata": {
        "colab": {
          "base_uri": "https://localhost:8080/"
        },
        "id": "xJkk1Yc2tHO7",
        "outputId": "be2c548f-829f-4025-8e47-0f32d7c1526a"
      },
      "outputs": [
        {
          "output_type": "stream",
          "name": "stdout",
          "text": [
            "Collecting emoji\n",
            "  Downloading emoji-2.14.1-py3-none-any.whl.metadata (5.7 kB)\n",
            "Downloading emoji-2.14.1-py3-none-any.whl (590 kB)\n",
            "\u001b[?25l   \u001b[90m━━━━━━━━━━━━━━━━━━━━━━━━━━━━━━━━━━━━━━━━\u001b[0m \u001b[32m0.0/590.6 kB\u001b[0m \u001b[31m?\u001b[0m eta \u001b[36m-:--:--\u001b[0m\r\u001b[2K   \u001b[91m━━━━\u001b[0m\u001b[91m╸\u001b[0m\u001b[90m━━━━━━━━━━━━━━━━━━━━━━━━━━━━━━━━━━━\u001b[0m \u001b[32m71.7/590.6 kB\u001b[0m \u001b[31m2.6 MB/s\u001b[0m eta \u001b[36m0:00:01\u001b[0m\r\u001b[2K   \u001b[91m━━━━━━━━━━━━━━━━━━━━━━━━━━━━━━━━━━━━━━━\u001b[0m\u001b[91m╸\u001b[0m \u001b[32m583.7/590.6 kB\u001b[0m \u001b[31m8.9 MB/s\u001b[0m eta \u001b[36m0:00:01\u001b[0m\r\u001b[2K   \u001b[90m━━━━━━━━━━━━━━━━━━━━━━━━━━━━━━━━━━━━━━━━\u001b[0m \u001b[32m590.6/590.6 kB\u001b[0m \u001b[31m7.5 MB/s\u001b[0m eta \u001b[36m0:00:00\u001b[0m\n",
            "\u001b[?25hInstalling collected packages: emoji\n",
            "Successfully installed emoji-2.14.1\n",
            "Mounted at /content/drive\n"
          ]
        },
        {
          "output_type": "stream",
          "name": "stderr",
          "text": [
            "[nltk_data] Downloading package punkt to /root/nltk_data...\n",
            "[nltk_data]   Unzipping tokenizers/punkt.zip.\n",
            "[nltk_data] Downloading package punkt_tab to /root/nltk_data...\n",
            "[nltk_data]   Unzipping tokenizers/punkt_tab.zip.\n",
            "[nltk_data] Downloading package averaged_perceptron_tagger_eng to\n",
            "[nltk_data]     /root/nltk_data...\n",
            "[nltk_data]   Unzipping taggers/averaged_perceptron_tagger_eng.zip.\n",
            "[nltk_data] Downloading package stopwords to /root/nltk_data...\n",
            "[nltk_data]   Unzipping corpora/stopwords.zip.\n"
          ]
        },
        {
          "output_type": "execute_result",
          "data": {
            "text/plain": [
              "True"
            ]
          },
          "metadata": {},
          "execution_count": 1
        }
      ],
      "source": [
        "import pandas as pd\n",
        "import numpy as np\n",
        "from sklearn.model_selection import train_test_split, ParameterGrid\n",
        "import matplotlib.pyplot as plt\n",
        "import seaborn as sns\n",
        "!pip install emoji\n",
        "import emoji\n",
        "import re\n",
        "import sklearn\n",
        "from sklearn.preprocessing import OrdinalEncoder\n",
        "from sklearn.feature_selection import SelectFromModel\n",
        "from sklearn.ensemble import RandomForestClassifier\n",
        "from sklearn.metrics import f1_score\n",
        "import copy\n",
        "from tqdm import tqdm\n",
        "import nltk\n",
        "from nltk.corpus import stopwords\n",
        "from nltk import word_tokenize, pos_tag\n",
        "from torch import nn\n",
        "from torch.optim import Adam\n",
        "import torch\n",
        "from transformers import AutoConfig, AutoModel, AutoTokenizer, AdamW\n",
        "from transformers import DebertaV2Tokenizer\n",
        "from collections import Counter\n",
        "\n",
        "\n",
        "from google.colab import drive\n",
        "drive.mount('/content/drive')\n",
        "\n",
        "nltk.download('punkt')\n",
        "nltk.download('punkt_tab')\n",
        "nltk.download('averaged_perceptron_tagger_eng')\n",
        "nltk.download('stopwords')"
      ]
    },
    {
      "cell_type": "code",
      "execution_count": 2,
      "metadata": {
        "colab": {
          "base_uri": "https://localhost:8080/",
          "height": 206
        },
        "id": "5CXsTiKouS81",
        "outputId": "6457f390-ec56-402b-9894-c219df14a527"
      },
      "outputs": [
        {
          "output_type": "execute_result",
          "data": {
            "text/plain": [
              "                                                text  label\n",
              "0  “Worry is a down payment on a problem you may ...      2\n",
              "1  My roommate: it's okay that we can't spell bec...      0\n",
              "2  No but that's so cute. Atsu was probably shy a...      1\n",
              "3  Rooneys fucking untouchable isn't he? Been fuc...      0\n",
              "4  it's pretty depressing when u hit pan on ur fa...      3"
            ],
            "text/html": [
              "\n",
              "  <div id=\"df-8d4b29a5-d848-4a52-900c-e2df42073aa6\" class=\"colab-df-container\">\n",
              "    <div>\n",
              "<style scoped>\n",
              "    .dataframe tbody tr th:only-of-type {\n",
              "        vertical-align: middle;\n",
              "    }\n",
              "\n",
              "    .dataframe tbody tr th {\n",
              "        vertical-align: top;\n",
              "    }\n",
              "\n",
              "    .dataframe thead th {\n",
              "        text-align: right;\n",
              "    }\n",
              "</style>\n",
              "<table border=\"1\" class=\"dataframe\">\n",
              "  <thead>\n",
              "    <tr style=\"text-align: right;\">\n",
              "      <th></th>\n",
              "      <th>text</th>\n",
              "      <th>label</th>\n",
              "    </tr>\n",
              "  </thead>\n",
              "  <tbody>\n",
              "    <tr>\n",
              "      <th>0</th>\n",
              "      <td>“Worry is a down payment on a problem you may ...</td>\n",
              "      <td>2</td>\n",
              "    </tr>\n",
              "    <tr>\n",
              "      <th>1</th>\n",
              "      <td>My roommate: it's okay that we can't spell bec...</td>\n",
              "      <td>0</td>\n",
              "    </tr>\n",
              "    <tr>\n",
              "      <th>2</th>\n",
              "      <td>No but that's so cute. Atsu was probably shy a...</td>\n",
              "      <td>1</td>\n",
              "    </tr>\n",
              "    <tr>\n",
              "      <th>3</th>\n",
              "      <td>Rooneys fucking untouchable isn't he? Been fuc...</td>\n",
              "      <td>0</td>\n",
              "    </tr>\n",
              "    <tr>\n",
              "      <th>4</th>\n",
              "      <td>it's pretty depressing when u hit pan on ur fa...</td>\n",
              "      <td>3</td>\n",
              "    </tr>\n",
              "  </tbody>\n",
              "</table>\n",
              "</div>\n",
              "    <div class=\"colab-df-buttons\">\n",
              "\n",
              "  <div class=\"colab-df-container\">\n",
              "    <button class=\"colab-df-convert\" onclick=\"convertToInteractive('df-8d4b29a5-d848-4a52-900c-e2df42073aa6')\"\n",
              "            title=\"Convert this dataframe to an interactive table.\"\n",
              "            style=\"display:none;\">\n",
              "\n",
              "  <svg xmlns=\"http://www.w3.org/2000/svg\" height=\"24px\" viewBox=\"0 -960 960 960\">\n",
              "    <path d=\"M120-120v-720h720v720H120Zm60-500h600v-160H180v160Zm220 220h160v-160H400v160Zm0 220h160v-160H400v160ZM180-400h160v-160H180v160Zm440 0h160v-160H620v160ZM180-180h160v-160H180v160Zm440 0h160v-160H620v160Z\"/>\n",
              "  </svg>\n",
              "    </button>\n",
              "\n",
              "  <style>\n",
              "    .colab-df-container {\n",
              "      display:flex;\n",
              "      gap: 12px;\n",
              "    }\n",
              "\n",
              "    .colab-df-convert {\n",
              "      background-color: #E8F0FE;\n",
              "      border: none;\n",
              "      border-radius: 50%;\n",
              "      cursor: pointer;\n",
              "      display: none;\n",
              "      fill: #1967D2;\n",
              "      height: 32px;\n",
              "      padding: 0 0 0 0;\n",
              "      width: 32px;\n",
              "    }\n",
              "\n",
              "    .colab-df-convert:hover {\n",
              "      background-color: #E2EBFA;\n",
              "      box-shadow: 0px 1px 2px rgba(60, 64, 67, 0.3), 0px 1px 3px 1px rgba(60, 64, 67, 0.15);\n",
              "      fill: #174EA6;\n",
              "    }\n",
              "\n",
              "    .colab-df-buttons div {\n",
              "      margin-bottom: 4px;\n",
              "    }\n",
              "\n",
              "    [theme=dark] .colab-df-convert {\n",
              "      background-color: #3B4455;\n",
              "      fill: #D2E3FC;\n",
              "    }\n",
              "\n",
              "    [theme=dark] .colab-df-convert:hover {\n",
              "      background-color: #434B5C;\n",
              "      box-shadow: 0px 1px 3px 1px rgba(0, 0, 0, 0.15);\n",
              "      filter: drop-shadow(0px 1px 2px rgba(0, 0, 0, 0.3));\n",
              "      fill: #FFFFFF;\n",
              "    }\n",
              "  </style>\n",
              "\n",
              "    <script>\n",
              "      const buttonEl =\n",
              "        document.querySelector('#df-8d4b29a5-d848-4a52-900c-e2df42073aa6 button.colab-df-convert');\n",
              "      buttonEl.style.display =\n",
              "        google.colab.kernel.accessAllowed ? 'block' : 'none';\n",
              "\n",
              "      async function convertToInteractive(key) {\n",
              "        const element = document.querySelector('#df-8d4b29a5-d848-4a52-900c-e2df42073aa6');\n",
              "        const dataTable =\n",
              "          await google.colab.kernel.invokeFunction('convertToInteractive',\n",
              "                                                    [key], {});\n",
              "        if (!dataTable) return;\n",
              "\n",
              "        const docLinkHtml = 'Like what you see? Visit the ' +\n",
              "          '<a target=\"_blank\" href=https://colab.research.google.com/notebooks/data_table.ipynb>data table notebook</a>'\n",
              "          + ' to learn more about interactive tables.';\n",
              "        element.innerHTML = '';\n",
              "        dataTable['output_type'] = 'display_data';\n",
              "        await google.colab.output.renderOutput(dataTable, element);\n",
              "        const docLink = document.createElement('div');\n",
              "        docLink.innerHTML = docLinkHtml;\n",
              "        element.appendChild(docLink);\n",
              "      }\n",
              "    </script>\n",
              "  </div>\n",
              "\n",
              "\n",
              "<div id=\"df-9cc47c66-581a-445d-8ae5-8c68f5dc41d8\">\n",
              "  <button class=\"colab-df-quickchart\" onclick=\"quickchart('df-9cc47c66-581a-445d-8ae5-8c68f5dc41d8')\"\n",
              "            title=\"Suggest charts\"\n",
              "            style=\"display:none;\">\n",
              "\n",
              "<svg xmlns=\"http://www.w3.org/2000/svg\" height=\"24px\"viewBox=\"0 0 24 24\"\n",
              "     width=\"24px\">\n",
              "    <g>\n",
              "        <path d=\"M19 3H5c-1.1 0-2 .9-2 2v14c0 1.1.9 2 2 2h14c1.1 0 2-.9 2-2V5c0-1.1-.9-2-2-2zM9 17H7v-7h2v7zm4 0h-2V7h2v10zm4 0h-2v-4h2v4z\"/>\n",
              "    </g>\n",
              "</svg>\n",
              "  </button>\n",
              "\n",
              "<style>\n",
              "  .colab-df-quickchart {\n",
              "      --bg-color: #E8F0FE;\n",
              "      --fill-color: #1967D2;\n",
              "      --hover-bg-color: #E2EBFA;\n",
              "      --hover-fill-color: #174EA6;\n",
              "      --disabled-fill-color: #AAA;\n",
              "      --disabled-bg-color: #DDD;\n",
              "  }\n",
              "\n",
              "  [theme=dark] .colab-df-quickchart {\n",
              "      --bg-color: #3B4455;\n",
              "      --fill-color: #D2E3FC;\n",
              "      --hover-bg-color: #434B5C;\n",
              "      --hover-fill-color: #FFFFFF;\n",
              "      --disabled-bg-color: #3B4455;\n",
              "      --disabled-fill-color: #666;\n",
              "  }\n",
              "\n",
              "  .colab-df-quickchart {\n",
              "    background-color: var(--bg-color);\n",
              "    border: none;\n",
              "    border-radius: 50%;\n",
              "    cursor: pointer;\n",
              "    display: none;\n",
              "    fill: var(--fill-color);\n",
              "    height: 32px;\n",
              "    padding: 0;\n",
              "    width: 32px;\n",
              "  }\n",
              "\n",
              "  .colab-df-quickchart:hover {\n",
              "    background-color: var(--hover-bg-color);\n",
              "    box-shadow: 0 1px 2px rgba(60, 64, 67, 0.3), 0 1px 3px 1px rgba(60, 64, 67, 0.15);\n",
              "    fill: var(--button-hover-fill-color);\n",
              "  }\n",
              "\n",
              "  .colab-df-quickchart-complete:disabled,\n",
              "  .colab-df-quickchart-complete:disabled:hover {\n",
              "    background-color: var(--disabled-bg-color);\n",
              "    fill: var(--disabled-fill-color);\n",
              "    box-shadow: none;\n",
              "  }\n",
              "\n",
              "  .colab-df-spinner {\n",
              "    border: 2px solid var(--fill-color);\n",
              "    border-color: transparent;\n",
              "    border-bottom-color: var(--fill-color);\n",
              "    animation:\n",
              "      spin 1s steps(1) infinite;\n",
              "  }\n",
              "\n",
              "  @keyframes spin {\n",
              "    0% {\n",
              "      border-color: transparent;\n",
              "      border-bottom-color: var(--fill-color);\n",
              "      border-left-color: var(--fill-color);\n",
              "    }\n",
              "    20% {\n",
              "      border-color: transparent;\n",
              "      border-left-color: var(--fill-color);\n",
              "      border-top-color: var(--fill-color);\n",
              "    }\n",
              "    30% {\n",
              "      border-color: transparent;\n",
              "      border-left-color: var(--fill-color);\n",
              "      border-top-color: var(--fill-color);\n",
              "      border-right-color: var(--fill-color);\n",
              "    }\n",
              "    40% {\n",
              "      border-color: transparent;\n",
              "      border-right-color: var(--fill-color);\n",
              "      border-top-color: var(--fill-color);\n",
              "    }\n",
              "    60% {\n",
              "      border-color: transparent;\n",
              "      border-right-color: var(--fill-color);\n",
              "    }\n",
              "    80% {\n",
              "      border-color: transparent;\n",
              "      border-right-color: var(--fill-color);\n",
              "      border-bottom-color: var(--fill-color);\n",
              "    }\n",
              "    90% {\n",
              "      border-color: transparent;\n",
              "      border-bottom-color: var(--fill-color);\n",
              "    }\n",
              "  }\n",
              "</style>\n",
              "\n",
              "  <script>\n",
              "    async function quickchart(key) {\n",
              "      const quickchartButtonEl =\n",
              "        document.querySelector('#' + key + ' button');\n",
              "      quickchartButtonEl.disabled = true;  // To prevent multiple clicks.\n",
              "      quickchartButtonEl.classList.add('colab-df-spinner');\n",
              "      try {\n",
              "        const charts = await google.colab.kernel.invokeFunction(\n",
              "            'suggestCharts', [key], {});\n",
              "      } catch (error) {\n",
              "        console.error('Error during call to suggestCharts:', error);\n",
              "      }\n",
              "      quickchartButtonEl.classList.remove('colab-df-spinner');\n",
              "      quickchartButtonEl.classList.add('colab-df-quickchart-complete');\n",
              "    }\n",
              "    (() => {\n",
              "      let quickchartButtonEl =\n",
              "        document.querySelector('#df-9cc47c66-581a-445d-8ae5-8c68f5dc41d8 button');\n",
              "      quickchartButtonEl.style.display =\n",
              "        google.colab.kernel.accessAllowed ? 'block' : 'none';\n",
              "    })();\n",
              "  </script>\n",
              "</div>\n",
              "\n",
              "    </div>\n",
              "  </div>\n"
            ],
            "application/vnd.google.colaboratory.intrinsic+json": {
              "type": "dataframe",
              "variable_name": "data",
              "summary": "{\n  \"name\": \"data\",\n  \"rows\": 3257,\n  \"fields\": [\n    {\n      \"column\": \"text\",\n      \"properties\": {\n        \"dtype\": \"string\",\n        \"num_unique_values\": 3232,\n        \"samples\": [\n          \"@user Yeah, but bad part is the #terrorism #terror Muslims won't be the ones leaving #ObamaLegacy #nationalsecurity #disaster #Obama\",\n          \"I feel like an appendix. I don't have a purpose. #sad #depressed #depression #alone #lonely #broken #sadness #cry #hurt #crying #life\",\n          \"I start work tmrw yall, i'm nervous lol\"\n        ],\n        \"semantic_type\": \"\",\n        \"description\": \"\"\n      }\n    },\n    {\n      \"column\": \"label\",\n      \"properties\": {\n        \"dtype\": \"number\",\n        \"std\": 1,\n        \"min\": 0,\n        \"max\": 3,\n        \"num_unique_values\": 4,\n        \"samples\": [\n          0,\n          3,\n          2\n        ],\n        \"semantic_type\": \"\",\n        \"description\": \"\"\n      }\n    }\n  ]\n}"
            }
          },
          "metadata": {},
          "execution_count": 2
        }
      ],
      "source": [
        "#Creazione dataset, la prima colonna è il testo intero del tweet\n",
        "\n",
        "datas = \"/content/drive/MyDrive/NLP/Challenge_2024/emotion/train_text.txt\"\n",
        "with open(datas, 'r', encoding='utf-8') as f:\n",
        "    tweets = f.readlines()\n",
        "\n",
        "# Rimuovi eventuali spazi vuoti o newline\n",
        "tweets = [tweet.strip() for tweet in tweets]\n",
        "\n",
        "# Crea un DataFrame\n",
        "data = pd.DataFrame(tweets, columns=['text'])\n",
        "\n",
        "labels =\"/content/drive/MyDrive/NLP/Challenge_2024/emotion/train_labels.txt\"\n",
        "with open(labels, 'r', encoding='utf-8') as f:\n",
        "    labels = f.readlines()\n",
        "\n",
        "labels2 = [int(label.strip()) for label in labels]\n",
        "\n",
        "data.insert(1, \"label\", labels2)\n",
        "texts = pd.DataFrame(data, columns=[\"text\"])\n",
        "data.head()"
      ]
    },
    {
      "cell_type": "code",
      "execution_count": 3,
      "metadata": {
        "colab": {
          "base_uri": "https://localhost:8080/"
        },
        "id": "EC4cIdXeu2xd",
        "outputId": "aea6276c-83a2-4629-dc79-316147356093"
      },
      "outputs": [
        {
          "output_type": "stream",
          "name": "stdout",
          "text": [
            "<class 'pandas.core.frame.DataFrame'>\n",
            "RangeIndex: 3257 entries, 0 to 3256\n",
            "Data columns (total 2 columns):\n",
            " #   Column  Non-Null Count  Dtype \n",
            "---  ------  --------------  ----- \n",
            " 0   text    3257 non-null   object\n",
            " 1   label   3257 non-null   int64 \n",
            "dtypes: int64(1), object(1)\n",
            "memory usage: 51.0+ KB\n"
          ]
        }
      ],
      "source": [
        "data.info()"
      ]
    },
    {
      "cell_type": "code",
      "execution_count": 4,
      "metadata": {
        "colab": {
          "base_uri": "https://localhost:8080/",
          "height": 600
        },
        "id": "74eQYzKzu6U-",
        "outputId": "4fb787e2-c921-43e0-a391-62a127038869"
      },
      "outputs": [
        {
          "output_type": "stream",
          "name": "stdout",
          "text": [
            "samples -> 3257\n",
            "categories -> {0, 1, 2, 3}[4]\n",
            "label\n",
            "0    1400\n",
            "3     855\n",
            "1     708\n",
            "2     294\n",
            "Name: count, dtype: int64\n"
          ]
        },
        {
          "output_type": "execute_result",
          "data": {
            "text/plain": [
              "<Axes: xlabel='label'>"
            ]
          },
          "metadata": {},
          "execution_count": 4
        },
        {
          "output_type": "display_data",
          "data": {
            "text/plain": [
              "<Figure size 640x480 with 1 Axes>"
            ],
            "image/png": "[encoded data removed]"
          },
          "metadata": {}
        }
      ],
      "source": [
        "#Utilizzo il bert-model-cased per il task di classificazione\n",
        "#0 = Rabbia\n",
        "#1 = Gioia\n",
        "#2 = Ottimismo\n",
        "#3 = Tristezza\n",
        "print('samples -> '+str(len(data)))\n",
        "labels = set(data['label'])\n",
        "numLabels = len(labels)\n",
        "print('categories -> '+str(labels)+'['+str(len(labels))+']')\n",
        "print(data['label'].value_counts())\n",
        "data.groupby(['label']).size().plot.bar()"
      ]
    },
    {
      "cell_type": "code",
      "source": [
        "from transformers import AutoModelForCausalLM, AutoTokenizer\n",
        "\n",
        "# Load model directly\n",
        "from transformers import AutoTokenizer, AutoModelForCausalLM, GenerationConfig\n",
        "\n",
        "tokenizer = AutoTokenizer.from_pretrained(lm_model_base, token=hf_auth)\n",
        "model = AutoModelForCausalLM.from_pretrained(lm_model_base, token=hf_auth)\n",
        "device = 'cuda'\n",
        "model.to(device)\n",
        "\n",
        "\n",
        "\n",
        "def paraphrase_text(text, max_length=100):\n",
        "    \"\"\"Genera una parafrasi usando LLaMA 2\"\"\"\n",
        "    if not isinstance(text, str) or text.strip() == \"\":\n",
        "        return text  # Evita errori con valori mancanti\n",
        "\n",
        "    prompt = f\"Parafrasa la seguente frase mantenendo il significato: '{text}'\"\n",
        "    inputs = tokenizer(prompt, return_tensors=\"pt\").to(\"cuda\")  # Usa GPU se disponibile\n",
        "\n",
        "    outputs = model.generate(**inputs, max_length=max_length, temperature=0.7, top_k=50, top_p=0.95)\n",
        "    paraphrased_text = tokenizer.decode(outputs[0], skip_special_tokens=True)\n",
        "\n",
        "    return paraphrased_text.replace(prompt, \"\").strip()  # Rimuove il prompt dal risultato\n",
        "\n",
        "# Carichiamo il dataset\n",
        "file_path = \"tweets.csv\"\n",
        "data = pd.read_csv(file_path)\n",
        "\n",
        "# Applichiamo la parafrasi ai tweet\n",
        "data['paraphrased_text'] = data['text'].apply(paraphrase_text)"
      ],
      "metadata": {
        "colab": {
          "base_uri": "https://localhost:8080/",
          "height": 211
        },
        "id": "SIsJPbu2voxJ",
        "outputId": "4d5c4dd4-ecf3-476b-a86a-4138abd6da97"
      },
      "execution_count": 6,
      "outputs": [
        {
          "output_type": "error",
          "ename": "NameError",
          "evalue": "name 'lm_model_base' is not defined",
          "traceback": [
            "\u001b[0;31m---------------------------------------------------------------------------\u001b[0m",
            "\u001b[0;31mNameError\u001b[0m                                 Traceback (most recent call last)",
            "\u001b[0;32m<ipython-input-6-2abb038f162c>\u001b[0m in \u001b[0;36m<cell line: 0>\u001b[0;34m()\u001b[0m\n\u001b[1;32m      4\u001b[0m \u001b[0;32mfrom\u001b[0m \u001b[0mtransformers\u001b[0m \u001b[0;32mimport\u001b[0m \u001b[0mAutoTokenizer\u001b[0m\u001b[0;34m,\u001b[0m \u001b[0mAutoModelForCausalLM\u001b[0m\u001b[0;34m,\u001b[0m \u001b[0mGenerationConfig\u001b[0m\u001b[0;34m\u001b[0m\u001b[0;34m\u001b[0m\u001b[0m\n\u001b[1;32m      5\u001b[0m \u001b[0;34m\u001b[0m\u001b[0m\n\u001b[0;32m----> 6\u001b[0;31m \u001b[0mtokenizer\u001b[0m \u001b[0;34m=\u001b[0m \u001b[0mAutoTokenizer\u001b[0m\u001b[0;34m.\u001b[0m\u001b[0mfrom_pretrained\u001b[0m\u001b[0;34m(\u001b[0m\u001b[0mlm_model_base\u001b[0m\u001b[0;34m,\u001b[0m \u001b[0mtoken\u001b[0m\u001b[0;34m=\u001b[0m\u001b[0mhf_auth\u001b[0m\u001b[0;34m)\u001b[0m\u001b[0;34m\u001b[0m\u001b[0;34m\u001b[0m\u001b[0m\n\u001b[0m\u001b[1;32m      7\u001b[0m \u001b[0mmodel\u001b[0m \u001b[0;34m=\u001b[0m \u001b[0mAutoModelForCausalLM\u001b[0m\u001b[0;34m.\u001b[0m\u001b[0mfrom_pretrained\u001b[0m\u001b[0;34m(\u001b[0m\u001b[0mlm_model_base\u001b[0m\u001b[0;34m,\u001b[0m \u001b[0mtoken\u001b[0m\u001b[0;34m=\u001b[0m\u001b[0mhf_auth\u001b[0m\u001b[0;34m)\u001b[0m\u001b[0;34m\u001b[0m\u001b[0;34m\u001b[0m\u001b[0m\n\u001b[1;32m      8\u001b[0m \u001b[0mdevice\u001b[0m \u001b[0;34m=\u001b[0m \u001b[0;34m'cuda'\u001b[0m\u001b[0;34m\u001b[0m\u001b[0;34m\u001b[0m\u001b[0m\n",
            "\u001b[0;31mNameError\u001b[0m: name 'lm_model_base' is not defined"
          ]
        }
      ]
    },
    {
      "cell_type": "code",
      "source": [
        "import pandas as pd\n",
        "import numpy as np\n",
        "from collections import Counter\n",
        "import emoji\n",
        "import matplotlib.pyplot as plt\n",
        "import seaborn as sns\n",
        "\n",
        "# Mappa delle etichette\n",
        "label_map = {0: 'Rabbia', 1: 'Gioia', 2: 'Ottimismo', 3: 'Tristezza'}\n",
        "\n",
        "\n",
        "emoji_freq = {emotion: Counter() for emotion in label_map.values()}\n",
        "total_emoji_count = Counter()\n",
        "\n",
        "# De-emojizzazione del testo\n",
        "data['text'] = data['text'].apply(lambda text: emoji.demojize(text, delimiters=(\" :\", \": \")))\n",
        "\n",
        "for _, row in data.iterrows():\n",
        "    text = row['text']\n",
        "    label = label_map[row['label']]\n",
        "\n",
        "    emojis = [word for word in text.split() if word.startswith(\":\") and word.endswith(\":\")]\n",
        "\n",
        "    for emj in emojis:\n",
        "        emoji_freq[label][emj] += 1\n",
        "        total_emoji_count[emj] += 1\n",
        "\n",
        "normalized_emoji_freq = {emotion: Counter() for emotion in emoji_freq.keys()}\n",
        "\n",
        "# Calcolo dello score logaritmico\n",
        "for emotion, counter in emoji_freq.items():\n",
        "    for emj, count in counter.items():\n",
        "        term_freq = count / total_emoji_count[emj]\n",
        "        log_weighted_freq = term_freq * np.log(total_emoji_count[emj] + 1)\n",
        "        normalized_emoji_freq[emotion][emj] = log_weighted_freq\n",
        "\n",
        "# Funzione per ottenere il vettore di punteggi per ogni tweet\n",
        "def get_tweet_emoji_vector(text):\n",
        "    emojis = [word for word in text.split() if word.startswith(\":\") and word.endswith(\":\")]\n",
        "\n",
        "    emotion_scores = {emotion: 0 for emotion in label_map.values()}\n",
        "\n",
        "    for emj in emojis:\n",
        "        for emotion in normalized_emoji_freq:\n",
        "            emotion_scores[emotion] += normalized_emoji_freq[emotion].get(emj, 0)\n",
        "\n",
        "    num_emojis = len(emojis)\n",
        "    if num_emojis > 0:\n",
        "        for emotion in emotion_scores:\n",
        "            emotion_scores[emotion] /= num_emojis\n",
        "\n",
        "    return list(emotion_scores.values())\n",
        "\n",
        "# Aggiungzione feature al dataset\n",
        "data['emoji_emotion_scores'] = data['text'].apply(get_tweet_emoji_vector)\n",
        "\n",
        "# Visualizzazione dei risultati\n",
        "for emotion, counter in normalized_emoji_freq.items():\n",
        "    top_emojis = counter.most_common(10)\n",
        "    emojis, freqs = zip(*top_emojis) if top_emojis else ([], [])\n",
        "\n",
        "    plt.figure(figsize=(10, 6))\n",
        "    sns.barplot(x=list(emojis), y=list(freqs), palette=\"viridis\")\n",
        "    plt.title(f\"Top 10 emoji (logaritmo pesato) per {emotion}\")\n",
        "    plt.xlabel(\"Emoji\")\n",
        "    plt.ylabel(\"Frequenza Logaritmica Pesata\")\n",
        "    plt.xticks(rotation=45)\n",
        "    plt.show()"
      ],
      "metadata": {
        "id": "HdtXBMqe8fi0"
      },
      "execution_count": null,
      "outputs": []
    },
    {
      "cell_type": "code",
      "source": [
        "data"
      ],
      "metadata": {
        "id": "8Cwr_zqd7boH"
      },
      "execution_count": null,
      "outputs": []
    },
    {
      "cell_type": "code",
      "source": [],
      "metadata": {
        "id": "wTfu3Ru5BKVW"
      },
      "execution_count": null,
      "outputs": []
    },
    {
      "cell_type": "code",
      "source": [
        "pos_freq = {emotion: Counter() for emotion in label_map.values()}\n",
        "total_pos_count = Counter()\n",
        "\n",
        "for _, row in data.iterrows():\n",
        "    text = row['text']\n",
        "    label = label_map[row['label']]\n",
        "    tokens = word_tokenize(text)\n",
        "    tagged = pos_tag(tokens)\n",
        "\n",
        "    for _, tag in tagged:\n",
        "        pos_freq[label][tag] += 1\n",
        "        total_pos_count[tag] += 1\n",
        "\n",
        "# Normalizzazione PoS\n",
        "normalized_pos_freq = {emotion: Counter() for emotion in pos_freq.keys()}\n",
        "for emotion, counter in pos_freq.items():\n",
        "    for tag, count in counter.items():\n",
        "        term_freq = count / total_pos_count[tag]\n",
        "        log_weighted_freq = term_freq * np.log(total_pos_count[tag] + 1)\n",
        "        normalized_pos_freq[emotion][tag] = log_weighted_freq\n",
        "\n",
        "# Funzione per ottenere il vettore di punteggi per ogni tweet basato su PoS\n",
        "def get_tweet_pos_vector(text):\n",
        "    tokens = word_tokenize(text)\n",
        "    tagged = pos_tag(tokens)\n",
        "    emotion_scores = {emotion: 0 for emotion in label_map.values()}\n",
        "    for _, tag in tagged:\n",
        "        for emotion in normalized_pos_freq:\n",
        "            emotion_scores[emotion] += normalized_pos_freq[emotion].get(tag, 0)\n",
        "    num_tags = len(tagged)\n",
        "    if num_tags > 0:\n",
        "        for emotion in emotion_scores:\n",
        "            emotion_scores[emotion] /= num_tags\n",
        "    return list(emotion_scores.values())\n",
        "\n",
        "data['pos_emotion_scores'] = data['text'].apply(get_tweet_pos_vector)\n",
        "\n",
        "\n",
        "for emotion, counter in normalized_pos_freq.items():\n",
        "    top_pos = counter.most_common(10)\n",
        "    pos_tags, freqs = zip(*top_pos) if top_pos else ([], [])\n",
        "    plt.figure(figsize=(10, 6))\n",
        "    sns.barplot(x=list(pos_tags), y=list(freqs), palette=\"magma\")\n",
        "    plt.title(f\"Top 10 PoS (logaritmo pesato) per {emotion}\")\n",
        "    plt.xlabel(\"Parti del discorso\")\n",
        "    plt.ylabel(\"Frequenza Logaritmica Pesata\")\n",
        "    plt.xticks(rotation=45)\n",
        "    plt.show()\n"
      ],
      "metadata": {
        "id": "-eMRWiuRAUTX"
      },
      "execution_count": null,
      "outputs": []
    },
    {
      "cell_type": "code",
      "source": [
        "data"
      ],
      "metadata": {
        "id": "BrpoJNJ8A79L"
      },
      "execution_count": null,
      "outputs": []
    },
    {
      "cell_type": "code",
      "execution_count": null,
      "metadata": {
        "id": "y5xNLBBlFOZi"
      },
      "outputs": [],
      "source": [
        "'''\n",
        "# Funzione per contare i PoS\n",
        "def extract_pos_counts(text):\n",
        "    tokens = word_tokenize(text)  # Tokenizza il testo\n",
        "    tagged = pos_tag(tokens)\n",
        "    pos_counts = [0, 0, 0, 0]\n",
        "\n",
        "    for _, tag in tagged:\n",
        "        if tag.startswith('JJ'):    # Aggettivi\n",
        "            pos_counts[0] += 1\n",
        "        elif tag.startswith('VB'):  # Verbi\n",
        "            pos_counts[1] += 1\n",
        "        elif tag.startswith('NN'):  # Sostantivi\n",
        "            pos_counts[2] += 1\n",
        "        elif tag.startswith('RB'):  # Avverbi\n",
        "            pos_counts[3] += 1\n",
        "    return pos_counts\n",
        "\n",
        "\n",
        "# Applicare la funzione e creare una lista di conteggi\n",
        "data['pos_counts'] = data['text'].apply(extract_pos_counts)\n",
        "\n",
        "df_pos = pd.DataFrame(data['pos_counts'].tolist(), columns=['JJ', 'VB', 'NN', 'RB'])\n",
        "data = pd.concat([data, df_pos], axis=1)\n",
        "data = data.drop(columns=['pos_counts'])\n",
        "\n",
        "'''\n"
      ]
    },
    {
      "cell_type": "code",
      "source": [
        "stop_words = set(stopwords.words('english'))\n",
        "pos_map = {\n",
        "    'JJ': 'Aggettivi',\n",
        "    'NN': 'Sostantivi',\n",
        "    'RB': 'Avverbi',\n",
        "}\n",
        "\n",
        "word_freq = {emotion: Counter() for emotion in ['Rabbia', 'Gioia', 'Ottimismo', 'Tristezza']}\n",
        "total_word_count = Counter()\n",
        "\n",
        "label_map = {0: 'Rabbia', 1: 'Gioia', 2: 'Ottimismo', 3: 'Tristezza'}\n",
        "\n",
        "\n",
        "for _, row in data.iterrows():\n",
        "    text = row['text']\n",
        "    label = label_map[row['label']]\n",
        "\n",
        "    tokens = word_tokenize(text.lower())\n",
        "    tokens = [word for word in tokens if word.isalnum() and word not in stop_words and not word.startswith('#')]\n",
        "\n",
        "    tagged_words = pos_tag(tokens)\n",
        "\n",
        "    for word, pos in tagged_words:\n",
        "        if pos in pos_map:\n",
        "            word_freq[label][word] += 1\n",
        "            total_word_count[word] += 1\n",
        "\n",
        "normalized_word_freq = {emotion: Counter() for emotion in word_freq.keys()}\n",
        "\n",
        "for emotion, counter in word_freq.items():\n",
        "    for word, count in counter.items():\n",
        "        term_freq = count / total_word_count[word]\n",
        "        log_weighted_freq = term_freq * np.log(total_word_count[word] + 1)\n",
        "        normalized_word_freq[emotion][word] = log_weighted_freq\n",
        "\n",
        "for emotion, counter in normalized_word_freq.items():\n",
        "    print(f\"\\nTop 10 parole con logaritmo pesato per {emotion}:\")\n",
        "    for word, freq in counter.most_common(10):\n",
        "        print(f\"{word}: {freq:.4f}\")\n",
        "\n",
        "for emotion, counter in normalized_word_freq.items():\n",
        "    top_words = counter.most_common(20)\n",
        "    words, freqs = zip(*top_words)\n",
        "\n",
        "    plt.figure(figsize=(10, 6))\n",
        "    sns.barplot(x=list(words), y=list(freqs), palette=\"viridis\")\n",
        "    plt.title(f\"Top 10 parole (logaritmo pesato) per {emotion}\")\n",
        "    plt.xlabel(\"Parole\")\n",
        "    plt.ylabel(\"Frequenza Logaritmica Pesata\")\n",
        "    plt.xticks(rotation=45)\n",
        "    plt.show()\n"
      ],
      "metadata": {
        "id": "9uh_SCrChn_B"
      },
      "execution_count": null,
      "outputs": []
    },
    {
      "cell_type": "code",
      "source": [
        "word_freq = {emotion: Counter() for emotion in ['Rabbia', 'Gioia', 'Ottimismo', 'Tristezza']}\n",
        "total_word_count = Counter()\n",
        "\n",
        "for _, row in data.iterrows():\n",
        "    text = row['text']\n",
        "    label = label_map[row['label']]\n",
        "\n",
        "    tokens = word_tokenize(text.lower())\n",
        "    tokens = [word for word in tokens if word.isalnum() and word not in stop_words]\n",
        "    tagged_words = pos_tag(tokens)\n",
        "    for word, pos in tagged_words:\n",
        "        if pos in pos_map:\n",
        "            word_freq[label][word] += 1\n",
        "            total_word_count[word] += 1\n",
        "\n",
        "\n",
        "normalized_word_freq = {emotion: Counter() for emotion in word_freq.keys()}\n",
        "\n",
        "for emotion, counter in word_freq.items():\n",
        "    for word, count in counter.items():\n",
        "        term_freq = count / total_word_count[word]\n",
        "        log_weighted_freq = term_freq * np.log(total_word_count[word] + 1)\n",
        "        normalized_word_freq[emotion][word] = log_weighted_freq\n",
        "\n",
        "\n",
        "def get_tweet_vector(text):\n",
        "    tokens = word_tokenize(text.lower())\n",
        "    tokens = [word for word in tokens if word.isalnum() and word not in stop_words]\n",
        "    emotion_scores = {'Rabbia': 0, 'Gioia': 0, 'Ottimismo': 0, 'Tristezza': 0}\n",
        "\n",
        "    for word in tokens:\n",
        "        for emotion in normalized_word_freq:\n",
        "            emotion_scores[emotion] += normalized_word_freq[emotion].get(word, 0)\n",
        "\n",
        "    num_words = len(tokens)\n",
        "    if num_words > 0:\n",
        "        for emotion in emotion_scores:\n",
        "            emotion_scores[emotion] /= num_words\n",
        "    return list(emotion_scores.values())\n",
        "\n",
        "tweet_vectors = []\n",
        "for _, row in data.iterrows():\n",
        "    tweet_vector = get_tweet_vector(row['text'])\n",
        "    tweet_vectors.append(tweet_vector)\n",
        "\n",
        "tweet_feature_data = pd.DataFrame(tweet_vectors, columns=['Rabbia', 'Gioia', 'Ottimismo', 'Tristezza'])\n",
        "\n",
        "data['words_emotion_scores'] = tweet_feature_data.values.tolist()\n",
        "data"
      ],
      "metadata": {
        "id": "gZXIgPCXOxvz"
      },
      "execution_count": null,
      "outputs": []
    },
    {
      "cell_type": "code",
      "execution_count": null,
      "metadata": {
        "id": "RpvCjuWkFOZk"
      },
      "outputs": [],
      "source": [
        "data['word_count'] = data['text'].apply(lambda x: len(x.split())) # quantità di parole\n",
        "data['text_length'] = data['text'].apply(len)                     # lunghezza del testo\n",
        "data"
      ]
    },
    {
      "cell_type": "code",
      "source": [
        "from collections import Counter\n",
        "\n",
        "data['hashtags'] = data['text'].apply(lambda x: re.findall(r\"#\\w+\", x.lower()))\n",
        "\n",
        "hashtag_freq = {emotion: Counter() for emotion in ['Rabbia', 'Gioia', 'Ottimismo', 'Tristezza']}\n",
        "total_hashtag_count = Counter()\n",
        "\n",
        "for _, row in data.iterrows():\n",
        "    hashtags = row['hashtags']\n",
        "    label = label_map[row['label']]\n",
        "\n",
        "    for hashtag in hashtags:\n",
        "        hashtag_freq[label][hashtag] += 1\n",
        "        total_hashtag_count[hashtag] += 1\n",
        "normalized_hashtag_freq = {emotion: Counter() for emotion in hashtag_freq.keys()}\n",
        "\n",
        "for emotion, counter in hashtag_freq.items():\n",
        "    for hashtag, count in counter.items():\n",
        "        term_freq = count / total_hashtag_count[hashtag]\n",
        "        log_weighted_freq = term_freq * np.log(total_hashtag_count[hashtag] + 1)\n",
        "        normalized_hashtag_freq[emotion][hashtag] = log_weighted_freq\n",
        "\n",
        "for emotion, counter in normalized_hashtag_freq.items():\n",
        "    print(f\"\\nTop 10 hashtag con logaritmo pesato per {emotion}:\")\n",
        "    for hashtag, freq in counter.most_common(10):\n",
        "        print(f\"{hashtag}: {freq:.4f}\")\n",
        "\n",
        "for emotion, counter in normalized_hashtag_freq.items():\n",
        "    top_hashtags = counter.most_common(20)\n",
        "    hashtags, freqs = zip(*top_hashtags)\n",
        "\n",
        "    plt.figure(figsize=(10, 6))\n",
        "    sns.barplot(x=list(hashtags), y=list(freqs), palette=\"viridis\")\n",
        "    plt.title(f\"Top 10 hashtag (logaritmo pesato) per {emotion}\")\n",
        "    plt.xlabel(\"Hashtag\")\n",
        "    plt.ylabel(\"Frequenza Logaritmica Pesata\")\n",
        "    plt.xticks(rotation=45)\n",
        "    plt.show()\n"
      ],
      "metadata": {
        "id": "DmVTnk4RkImM"
      },
      "execution_count": null,
      "outputs": []
    },
    {
      "cell_type": "code",
      "source": [
        "def get_hashtag_vector(hashtags):\n",
        "    emotion_scores = {'Rabbia': 0, 'Gioia': 0, 'Ottimismo': 0, 'Tristezza': 0}\n",
        "\n",
        "    for hashtag in hashtags:\n",
        "        for emotion in normalized_hashtag_freq:\n",
        "            emotion_scores[emotion] += normalized_hashtag_freq[emotion].get(hashtag, 0)\n",
        "    return list(emotion_scores.values())\n",
        "data['hastag_emotion_scores'] = data['hashtags'].apply(get_hashtag_vector)\n",
        "data = data.drop(columns=['hashtags'])\n",
        "\n"
      ],
      "metadata": {
        "id": "cnH5dV3xoeMN"
      },
      "execution_count": null,
      "outputs": []
    },
    {
      "cell_type": "code",
      "source": [
        "data"
      ],
      "metadata": {
        "id": "q8aurjqspHbU"
      },
      "execution_count": null,
      "outputs": []
    },
    {
      "cell_type": "code",
      "execution_count": null,
      "metadata": {
        "id": "TX9to0G5FOZq"
      },
      "outputs": [],
      "source": [
        "enc = OrdinalEncoder()\n",
        "labels = data[\"label\"]\n",
        "data2 = data.drop(\"text\", axis=1)"
      ]
    },
    {
      "cell_type": "code",
      "source": [
        "#data2['JJ'] = [x[0] for x in data['pos_counts']]\n",
        "#data2['VB'] = [x[1] for x in data['pos_counts']]\n",
        "#data2['NN'] = [x[2] for x in data['pos_counts']]\n",
        "#data2['RB'] = [x[3] for x in data['pos_counts']]\n",
        "data2['emoji_rabbia_scores'] = [x[0] for x in data['emoji_emotion_scores']]\n",
        "data2['emoji_gioia_scores'] = [x[1] for x in data['emoji_emotion_scores']]\n",
        "data2['emoji_optym_scores'] = [x[2] for x in data['emoji_emotion_scores']]\n",
        "data2['emoji_tristezza_scores'] = [x[3] for x in data['emoji_emotion_scores']]\n",
        "data2['word_rabbia_scores'] = [x[0] for x in data['words_emotion_scores']]\n",
        "data2['word_gioia_scores'] = [x[1] for x in data['words_emotion_scores']]\n",
        "data2['word_optym_scores'] = [x[2] for x in data['words_emotion_scores']]\n",
        "data2['word_tristezza_scores'] = [x[3] for x in data['words_emotion_scores']]\n",
        "data2['hastag_rabbia_scores'] = [x[0] for x in data['hastag_emotion_scores']]\n",
        "data2['hastag_gioia_scores'] = [x[1] for x in data['hastag_emotion_scores']]\n",
        "data2['hastag_optym_scores'] = [x[2] for x in data['hastag_emotion_scores']]\n",
        "data2['hastag_tristezza_scores'] = [x[3] for x in data['hastag_emotion_scores']]\n",
        "data2['pos_rabbia_scores'] = [x[0] for x in data['pos_emotion_scores']]\n",
        "data2['pos_gioia_scores'] = [x[1] for x in data['pos_emotion_scores']]\n",
        "data2['pos_optym_scores'] = [x[2] for x in data['pos_emotion_scores']]\n",
        "data2['pos_tristezza_scores'] = [x[3] for x in data['pos_emotion_scores']]"
      ],
      "metadata": {
        "id": "wyAvG2zytjFF"
      },
      "execution_count": null,
      "outputs": []
    },
    {
      "cell_type": "code",
      "source": [
        "data2 = data2.drop(columns=['emoji_emotion_scores','words_emotion_scores','hastag_emotion_scores', 'pos_emotion_scores'])\n",
        "data2.info()"
      ],
      "metadata": {
        "id": "5qAAksN3yhr2"
      },
      "execution_count": null,
      "outputs": []
    },
    {
      "cell_type": "code",
      "source": [
        "data2"
      ],
      "metadata": {
        "id": "sdwYP4CwFDFy"
      },
      "execution_count": null,
      "outputs": []
    },
    {
      "cell_type": "code",
      "execution_count": null,
      "metadata": {
        "id": "GhAKCy_HFOZr"
      },
      "outputs": [],
      "source": [
        "plt.figure(figsize=(10, 8))\n",
        "sns.heatmap(data2.corr(), cmap=\"coolwarm\", annot=True, fmt=\".1f\")\n",
        "plt.title(\"Matrice di correlazione tra le feature\")\n",
        "plt.show()"
      ]
    },
    {
      "cell_type": "code",
      "source": [
        "from sklearn.model_selection import GridSearchCV\n",
        "from sklearn.ensemble import RandomForestClassifier\n",
        "\n",
        "parameters = {\n",
        "    'n_estimators':[100, 150, 200],\n",
        "    'criterion':('gini', 'entropy', 'log_loss'),\n",
        "    'max_depth':[5, 10, 20, None]\n",
        "}\n",
        "\n",
        "forest = RandomForestClassifier(random_state=42)\n",
        "grid = GridSearchCV(forest, parameters, scoring='accuracy') # mi serve per trovare le migliori combinazioni di iperparametri\n",
        "grid.fit(data2, labels) # addestro la gridSearch\n",
        "\n",
        "best_model = grid.best_estimator_\n",
        "best_accuracy = grid.best_score_\n",
        "best_params = grid.best_params_\n",
        "print(f'Il miglior modello ha accuracy {best_accuracy} ed i suoi migliori parametri sono {best_params}')"
      ],
      "metadata": {
        "id": "lCebHOfPKaeB"
      },
      "execution_count": null,
      "outputs": []
    },
    {
      "cell_type": "code",
      "source": [
        "from sklearn.feature_selection import SelectFromModel\n",
        "\n",
        "sf = SelectFromModel(estimator=best_model)\n",
        "sf.fit_transform(data2, labels)\n",
        "print(sf.get_feature_names_out())"
      ],
      "metadata": {
        "id": "GlXgKdTQfrZV"
      },
      "execution_count": null,
      "outputs": []
    },
    {
      "cell_type": "code",
      "execution_count": null,
      "metadata": {
        "id": "TM_x-QFMFOZs"
      },
      "outputs": [],
      "source": [
        "#Ricreo il dataset finale con le feature estratte + il testo completo\n",
        "data3 = data2[['word_rabbia_scores','word_gioia_scores', 'word_optym_scores', 'word_tristezza_scores']]\n",
        "data3.insert(0, \"text\", data[\"text\"])\n",
        "data3.insert(5, \"label\",labels)\n",
        "data3"
      ]
    },
    {
      "cell_type": "code",
      "execution_count": null,
      "metadata": {
        "id": "Szadz-0KvTdy"
      },
      "outputs": [],
      "source": [
        "x_train = data3['text']\n",
        "y_train = data3['label']\n",
        "word_rabbia_scores = data3['word_rabbia_scores']\n",
        "word_gioia_scores = data3['word_gioia_scores']\n",
        "word_optym_scores = data3['word_optym_scores']\n",
        "word_tristezza_scores = data3['word_tristezza_scores']\n",
        "\n",
        "with open(\"/content/drive/MyDrive/NLP/Challenge_2024/emotion/val_text.txt\", 'r', encoding='utf-8') as f:\n",
        "    tweets = f.readlines()\n",
        "\n",
        "# Rimuovi eventuali spazi vuoti o newline\n",
        "tweets = [tweet.strip() for tweet in tweets]\n",
        "val_text_df = pd.DataFrame(tweets, columns=['text'])\n",
        "\n",
        "with open(\"/content/drive/MyDrive/NLP/Challenge_2024/emotion/val_labels.txt\", 'r', encoding='utf-8') as f:\n",
        "    labels = f.readlines()\n",
        "\n",
        "labels2 = [int(label.strip()) for label in labels]\n",
        "\n",
        "val_data = pd.DataFrame(tweets, columns=['text'])\n",
        "val_data['label'] = labels2\n",
        "val_data"
      ]
    },
    {
      "cell_type": "code",
      "source": [
        "# Applicazione della funzione ai tweet e creazione delle feature\n",
        "tweet_vectors = []\n",
        "for _, row in val_data.iterrows():\n",
        "    tweet_vector = get_tweet_vector(row['text'])\n",
        "    tweet_vectors.append(tweet_vector)\n",
        "\n",
        "# Convertilo in un DataFrame per visualizzare le feature\n",
        "tweet_feature_data = pd.DataFrame(tweet_vectors, columns=['Rabbia', 'Gioia', 'Ottimismo', 'Tristezza'])\n",
        "val_data['words_emotion_scores'] = tweet_feature_data.values.tolist()\n",
        "\n",
        "val_data['word_rabbia_scores'] = [x[0] for x in val_data['words_emotion_scores']]\n",
        "val_data['word_gioia_scores'] = [x[1] for x in val_data['words_emotion_scores']]\n",
        "val_data['word_optym_scores'] = [x[2] for x in val_data['words_emotion_scores']]\n",
        "val_data['word_tristezza_scores'] = [x[3] for x in val_data['words_emotion_scores']]\n",
        "val_data = val_data.drop(columns=['words_emotion_scores'])\n",
        "val_data\n"
      ],
      "metadata": {
        "id": "yo1rRV6-_0t-"
      },
      "execution_count": null,
      "outputs": []
    },
    {
      "cell_type": "code",
      "execution_count": null,
      "metadata": {
        "id": "47XiljIZFOZu"
      },
      "outputs": [],
      "source": [
        "x_val = val_data['text']\n",
        "word_rabbia_scores_val = val_data['word_rabbia_scores']\n",
        "word_gioia_scores_val = val_data['word_gioia_scores']\n",
        "word_optym_scores_val = val_data['word_optym_scores']\n",
        "word_tristezza_scores_val = val_data['word_tristezza_scores']\n",
        "label_val = val_data['label']"
      ]
    },
    {
      "cell_type": "code",
      "execution_count": null,
      "metadata": {
        "id": "KvhPl5xJFOZv"
      },
      "outputs": [],
      "source": [
        "x_train = x_train.apply(lambda x: x.replace('\\r', ' ').replace('\\n', ' '))\n",
        "x_val = x_val.apply(lambda x: x.replace('\\r', ' ').replace('\\n', ' '))"
      ]
    },
    {
      "cell_type": "code",
      "execution_count": null,
      "metadata": {
        "id": "tD5mdgsmvUPV"
      },
      "outputs": [],
      "source": [
        "class Dataset(torch.utils.data.Dataset):\n",
        "\n",
        "    def __init__(self, x, word_rabbia_scores, word_gioia_scores, word_optym_scores, word_tristezza_scores, y, stopwords):\n",
        "\n",
        "        # x e y sono series di pandas\n",
        "        tokens_litt = [nltk.word_tokenize(text, language='english')\n",
        "         for text in list(x)]\n",
        "        text_clean = []\n",
        "\n",
        "        if stopwords:\n",
        "            for sentence in tqdm(tokens_litt, desc='Tokenizing ... '):\n",
        "                text_clean.append(' '.join([w.lower() for w in sentence if\n",
        "                    not w.lower() in nltk.corpus.stopwords.words(\"english\")]))\n",
        "        else:\n",
        "            for sentence in tqdm(tokens_litt, desc='Tokenizing ... '):\n",
        "                text_clean.append(' '.join([w.lower() for w in sentence]))\n",
        "            # ogni token è separato dall'altro con uno spazio\n",
        "\n",
        "        self.texts = text_clean\n",
        "        self.labels = [torch.tensor(label) for label in y]\n",
        "        self.word_rabbia_scores = [torch.tensor(score) for score in word_rabbia_scores]\n",
        "        self.word_gioia_scores = [torch.tensor(score) for score in word_gioia_scores]\n",
        "        self.word_optym_scores = [torch.tensor(score) for score in word_optym_scores]\n",
        "        self.word_tristezza_scores = [torch.tensor(score) for score in word_tristezza_scores]\n",
        "\n",
        "    def classes(self):\n",
        "        return self.labels\n",
        "\n",
        "    def __len__(self):\n",
        "        return len(self.labels)\n",
        "\n",
        "    def __getitem__(self, idx):\n",
        "\n",
        "        batch_texts = self.texts[idx]\n",
        "        batch_labels = np.array(self.labels[idx])\n",
        "        batch_word_rabbia_scores = np.array(self.word_rabbia_scores[idx])\n",
        "        batch_word_gioia_scores = np.array(self.word_gioia_scores[idx])\n",
        "        batch_word_optym_scores = np.array(self.word_optym_scores[idx])\n",
        "        batch_word_tristezza_scores = np.array(self.word_tristezza_scores[idx])\n",
        "\n",
        "        return batch_texts, batch_word_rabbia_scores, batch_word_gioia_scores, batch_word_optym_scores, batch_word_tristezza_scores, batch_labels"
      ]
    },
    {
      "cell_type": "code",
      "execution_count": null,
      "metadata": {
        "id": "j6f350WTveW6"
      },
      "outputs": [],
      "source": [
        "#Iperparametri della rete\n",
        "#Uso il modello bertweet-base\n",
        "hyperparameters = {\n",
        "    \"epochs\": 5,\n",
        "    \"learning_rate\": 1e-5,\n",
        "    \"batch_size\": 16,\n",
        "    \"dropout\": 0.1,\n",
        "    \"stopwords\": False,\n",
        "    \"language_model\": \"vinai/bertweet-base\",\n",
        "    \"layers\": 1,\n",
        "    \"h_dim\": 768,\n",
        "    \"bilstm\": True,\n",
        "    \"patience\": 5,\n",
        "    \"min_delta\": 0.01,\n",
        "}"
      ]
    },
    {
      "cell_type": "code",
      "execution_count": null,
      "metadata": {
        "id": "sunjLJSRvh1Y"
      },
      "outputs": [],
      "source": [
        "#!pip install emoji\n",
        "#Installo la libreria emoji per trasformare le emoji di un testo in caratteri"
      ]
    },
    {
      "cell_type": "code",
      "execution_count": null,
      "metadata": {
        "id": "OPsJaVy-FOZw"
      },
      "outputs": [],
      "source": [
        "#x_train, x_test, y_train, y_test = train_test_split(x_train, y_train, test_size=0.2, random_state=42)"
      ]
    },
    {
      "cell_type": "code",
      "source": [
        "word_rabbia_scores_val = val_data['word_rabbia_scores']\n",
        "word_gioia_scores_val = val_data['word_gioia_scores']\n",
        "word_optym_scores_val = val_data['word_optym_scores']\n",
        "word_tristezza_scores_val = val_data['word_tristezza_scores']"
      ],
      "metadata": {
        "id": "KX1a9opgBxlH"
      },
      "execution_count": null,
      "outputs": []
    },
    {
      "cell_type": "code",
      "execution_count": null,
      "metadata": {
        "id": "HLm381m5vkqQ"
      },
      "outputs": [],
      "source": [
        "#creo i dataset\n",
        "train_dataset = Dataset(x_train, word_rabbia_scores, word_gioia_scores, word_optym_scores, word_tristezza_scores, y_train, hyperparameters[\"stopwords\"])\n",
        "val_dataset = Dataset(x_val, word_rabbia_scores_val, word_gioia_scores_val, word_optym_scores_val, word_tristezza_scores_val ,label_val, hyperparameters[\"stopwords\"])"
      ]
    },
    {
      "cell_type": "code",
      "execution_count": null,
      "metadata": {
        "id": "bkpEKxbKvmYc"
      },
      "outputs": [],
      "source": [
        "extra_features = 4\n",
        "\n",
        "class ClassifierDeep(nn.Module):\n",
        "    def __init__(self, labels, hdim, dropout, model_name):\n",
        "        super(ClassifierDeep, self).__init__()\n",
        "        config = AutoConfig.from_pretrained(model_name)\n",
        "        self.lm_model = AutoModel.from_pretrained(model_name, config=config)\n",
        "\n",
        "        # Proiezione dell'output di BERT\n",
        "        self.bert_projection = nn.Sequential(\n",
        "            nn.Linear(hdim, hdim),\n",
        "            nn.BatchNorm1d(hdim),\n",
        "            nn.ReLU(),\n",
        "            nn.Dropout(dropout)\n",
        "        )\n",
        "\n",
        "        # Proiezione delle extra features\n",
        "        self.extra_feature_projection = nn.Sequential(\n",
        "            nn.Linear(extra_features, hdim // 2),\n",
        "            nn.BatchNorm1d(hdim // 2),\n",
        "            nn.ReLU(),\n",
        "            nn.Dropout(dropout)\n",
        "        )\n",
        "\n",
        "        # Classificatore finale\n",
        "        self.classifier = nn.Sequential(\n",
        "            nn.Linear(hdim + (hdim // 2), hdim),\n",
        "            nn.BatchNorm1d(hdim),\n",
        "            nn.ReLU(),\n",
        "            nn.Dropout(dropout),\n",
        "            nn.Linear(hdim, labels)\n",
        "        )\n",
        "\n",
        "    def forward(self, input_id_text, attention_mask, word_rabbia_scores, word_gioia_scores, word_optym_scores, word_tristezza_scores):\n",
        "\n",
        "        # Output da BERT\n",
        "        output = self.lm_model(input_id_text, attention_mask).last_hidden_state\n",
        "        output = output[:, 0, :]  # CLS token\n",
        "        output = self.bert_projection(output)\n",
        "\n",
        "        # Extra features (PoS, emoji scores)\n",
        "        extra_features = torch.cat((word_rabbia_scores.unsqueeze(1), word_gioia_scores.unsqueeze(1),\n",
        "                                    word_optym_scores.unsqueeze(1), word_tristezza_scores.unsqueeze(1)), dim=1)\n",
        "        extra_features = self.extra_feature_projection(extra_features)\n",
        "\n",
        "        # Fusione delle rappresentazioni\n",
        "        combined = torch.cat((output, extra_features), dim=1)\n",
        "        return self.classifier(combined)\n"
      ]
    },
    {
      "cell_type": "code",
      "execution_count": null,
      "metadata": {
        "id": "Wnprxd_nvm9G"
      },
      "outputs": [],
      "source": [
        "class EarlyStopping:\n",
        "    def __init__(self, patience=5, min_delta=0.0):\n",
        "\n",
        "        self.patience = patience\n",
        "        self.min_delta = min_delta              # valore minimo di decrescita della loss di validazione all'epoca corrente\n",
        "                                                # per asserire che c'è un miglioramento della loss\n",
        "        self.counter = 0                        # contatore delle epoche di pazienza\n",
        "        self.early_stop = False                 # flag di early stop\n",
        "        self.min_validation_loss = torch.inf    # valore corrente ottimo della loss di validazione\n",
        "\n",
        "    def __call__(self, validation_loss):\n",
        "        # chiamata in forma funzionale dell'oggetto di classe EarlySopping\n",
        "\n",
        "        if (validation_loss + self.min_delta) >= self.min_validation_loss:  # la loss di validazione non decresce\n",
        "            self.counter += 1                                               # incrementiamo il contatore delle epoche di pazienza\n",
        "            if self.counter >= self.patience:\n",
        "                self.early_stop = True\n",
        "                print(\"Early stop!\")\n",
        "        else:                                               # c'è un miglioramento della loss:\n",
        "            self.min_validation_loss = validation_loss      # consideriamo la loss corrente\n",
        "                                                            # come nuova loss ottimale\n",
        "            self.counter = 0                                # e azzeriamo il contatore di pazienza"
      ]
    },
    {
      "cell_type": "code",
      "execution_count": null,
      "metadata": {
        "id": "SYNopA4Rvr5s"
      },
      "outputs": [],
      "source": [
        "def train_loop(model, dataloader, tokenizer, loss, optimizer, device):\n",
        "    model.train()\n",
        "\n",
        "    epoch_acc = 0\n",
        "    epoch_loss = 0\n",
        "\n",
        "    for batch_texts, batch_word_rabbia_scores, batch_word_gioia_scores, batch_word_optym_scores, batch_word_tristezza_scores, batch_labels in tqdm(dataloader, desc='training set'):\n",
        "\n",
        "        optimizer.zero_grad()\n",
        "\n",
        "        tokens = tokenizer(list(batch_texts), add_special_tokens=True, return_tensors='pt', padding='max_length', max_length = 128, truncation=True)\n",
        "        input_id_texts = tokens['input_ids'].squeeze(1).to(device)\n",
        "        batch_word_rabbia_scores = batch_word_rabbia_scores.float().to(device)\n",
        "        batch_word_gioia_scores = batch_word_gioia_scores.float().to(device)\n",
        "        batch_word_optym_scores = batch_word_optym_scores.float().to(device)\n",
        "        batch_word_tristezza_scores = batch_word_tristezza_scores.float().to(device)\n",
        "\n",
        "        mask_texts = tokens['attention_mask'].squeeze(1).to(device)\n",
        "        batch_labels = batch_labels.to(device)\n",
        "        output = model(input_id_texts, mask_texts, batch_word_rabbia_scores, batch_word_gioia_scores, batch_word_optym_scores, batch_word_tristezza_scores).squeeze(1)\n",
        "\n",
        "        # la loss è una CrossEntropyLoss, al suo interno ha\n",
        "        # la logsoftmax + negative log likelihood loss\n",
        "        batch_loss = loss(output, batch_labels)\n",
        "        batch_loss.backward()\n",
        "        optimizer.step()\n",
        "        epoch_loss += batch_loss.item()\n",
        "\n",
        "        # per calcolare l'accuracy devo generare le predizioni\n",
        "        # applicando manualmente la logsoftmax\n",
        "        #softmax = nn.LogSoftmax(dim=1)\n",
        "        #epoch_acc += (softmax(output).argmax(dim=1) == batch_labels).sum().item()\n",
        "        preds = output.argmax(dim=1)\n",
        "        epoch_acc += (preds == batch_labels).sum().item()\n",
        "\n",
        "        batch_labels = batch_labels.detach().cpu()\n",
        "        input_id_texts = input_id_texts.detach().cpu()\n",
        "        mask_texts = mask_texts.detach().cpu()\n",
        "        batch_word_rabbia_scores = batch_word_rabbia_scores.detach().cpu()\n",
        "        batch_word_gioia_scores = batch_word_gioia_scores.detach().cpu()\n",
        "        batch_word_optym_scores = batch_word_optym_scores.detach().cpu()\n",
        "        batch_word_tristezza_scores = batch_word_tristezza_scores.detach().cpu()\n",
        "\n",
        "        output = output.detach().cpu()\n",
        "\n",
        "    return epoch_loss / len(dataloader), epoch_acc"
      ]
    },
    {
      "cell_type": "code",
      "execution_count": null,
      "metadata": {
        "id": "MCY_fzlZvzRA"
      },
      "outputs": [],
      "source": [
        "def test_loop(model, dataloader, tokenizer, loss, device, scheduler):\n",
        "    model.eval()\n",
        "\n",
        "    epoch_acc = 0\n",
        "    epoch_loss = 0\n",
        "\n",
        "    all_preds = []\n",
        "    all_labels = []\n",
        "\n",
        "    with torch.no_grad():\n",
        "\n",
        "        for batch_texts, batch_word_rabbia_scores, batch_word_gioia_scores, batch_word_optym_scores, batch_word_tristezza_scores, batch_labels in tqdm(dataloader, desc='dev set'):\n",
        "\n",
        "            tokens = tokenizer(list(batch_texts), add_special_tokens=True, return_tensors='pt', padding='max_length', max_length = 128, truncation=True)\n",
        "            input_id_texts = tokens['input_ids'].squeeze(1).to(device)\n",
        "            batch_word_rabbia_scores = batch_word_rabbia_scores.float().to(device)\n",
        "            batch_word_gioia_scores = batch_word_gioia_scores.float().to(device)\n",
        "            batch_word_optym_scores = batch_word_optym_scores.float().to(device)\n",
        "            batch_word_tristezza_scores = batch_word_tristezza_scores.float().to(device)\n",
        "\n",
        "            mask_texts = tokens['attention_mask'].squeeze(1).to(device)\n",
        "            batch_labels = batch_labels.to(device)\n",
        "            output = model(input_id_texts, mask_texts, batch_word_rabbia_scores, batch_word_gioia_scores, batch_word_optym_scores, batch_word_tristezza_scores).squeeze(1)\n",
        "\n",
        "            # la loss è una CrossEntropyLoss, al suo interno ha\n",
        "            # la logsoftmax + negative log likelihood loss\n",
        "            batch_loss = loss(output, batch_labels)\n",
        "            epoch_loss += batch_loss.item()\n",
        "\n",
        "            # per calcolare l'accuracy devo generare le predizioni\n",
        "            # applicando manualmente la logsoftmax\n",
        "            #softmax = nn.LogSoftmax(dim=1)\n",
        "            #preds = softmax(output).argmax(dim=1)\n",
        "            #epoch_acc += (preds == batch_labels).sum().item()\n",
        "            preds = output.argmax(dim=1)\n",
        "            epoch_acc += (preds == batch_labels).sum().item()\n",
        "\n",
        "            all_preds.extend(preds.cpu().numpy())\n",
        "            all_labels.extend(batch_labels.cpu().numpy())\n",
        "\n",
        "            batch_labels = batch_labels.detach().cpu()\n",
        "            input_id_texts = input_id_texts.detach().cpu()\n",
        "            mask_texts = mask_texts.detach().cpu()\n",
        "            batch_word_rabbia_scores = batch_word_rabbia_scores.detach().cpu()\n",
        "            batch_word_gioia_scores = batch_word_gioia_scores.detach().cpu()\n",
        "            batch_word_optym_scores = batch_word_optym_scores.detach().cpu()\n",
        "            batch_word_tristezza_scores = batch_word_tristezza_scores.detach().cpu()\n",
        "\n",
        "            output = output.detach().cpu()\n",
        "    scheduler.step(epoch_loss)\n",
        "    f1 = f1_score(all_labels, all_preds, average=\"macro\")\n",
        "\n",
        "    return epoch_loss / len(dataloader), epoch_acc, f1"
      ]
    },
    {
      "cell_type": "code",
      "execution_count": null,
      "metadata": {
        "id": "3VpZgPgyvz7f"
      },
      "outputs": [],
      "source": [
        "def train_test(model, epochs, optimizer, device, train_data,\n",
        "               batch_size, model_name, train_loss_fn,\n",
        "               test_loss_fn=None,         # non necessariamente train e test loss devono differire\n",
        "               early_stopping=None,       # posso addstrare senza early stopping\n",
        "               val_data=None,             # e in questo caso non c'è validation set\n",
        "               scheduler=None):           # possibile scheduler per monitorare l'andamento di un iperparametro,\n",
        "                                          # tipicamente il learning rate\n",
        "\n",
        "    train_dataloader = torch.utils.data.DataLoader(train_data, batch_size=batch_size, shuffle=True)\n",
        "    val_dataloader = torch.utils.data.DataLoader(val_data, batch_size=batch_size)\n",
        "    #test_dataloader = torch.utils.data.DataLoader(test_data, batch_size=batch_size)\n",
        "\n",
        "    # check sulle funzioni di loss\n",
        "    if test_loss_fn == None:\n",
        "        test_loss_fn = train_loss_fn\n",
        "\n",
        "    # liste dei valori di loss e accuracy epoca per epoca per il plot\n",
        "    train_loss = []\n",
        "    validation_loss = []\n",
        "    test_loss = []\n",
        "\n",
        "    train_acc = []\n",
        "    validation_acc = []\n",
        "    test_acc = []\n",
        "\n",
        "    preds = []\n",
        "\n",
        "    tokenizer = AutoTokenizer.from_pretrained(model_name)\n",
        "    #tokenizer = DebertaV2Tokenizer.from_pretrained(model_name)\n",
        "\n",
        "    # Ciclo di addestramento con early stopping\n",
        "    for epoch in tqdm(range(1,epochs+1)):\n",
        "\n",
        "        epoch_train_loss, epoch_train_acc = train_loop(model, train_dataloader, tokenizer, train_loss_fn, optimizer, device)\n",
        "        train_loss.append(epoch_train_loss)\n",
        "        train_acc.append(epoch_train_acc/len(train_data))\n",
        "\n",
        "        # validation se è presente la callback di early stopping\n",
        "        if early_stopping != None:\n",
        "                epoch_validate_loss, epoch_validate_acc, f1 = test_loop(model, val_dataloader, tokenizer, test_loss_fn, device, scheduler)\n",
        "                validation_loss.append(epoch_validate_loss)\n",
        "                validation_acc.append(epoch_validate_acc/len(val_data))\n",
        "\n",
        "        # test\n",
        "        #epoch_test_loss, epoch_test_acc, f1 = test_loop(model, test_dataloader, tokenizer, test_loss_fn, device)\n",
        "        #test_loss.append(epoch_test_loss)\n",
        "        #test_acc.append(epoch_test_acc/len(test_data))\n",
        "\n",
        "        val_loss_str = f'Validation loss: {epoch_validate_loss:6.4f} 'if early_stopping != None else ' '\n",
        "        val_acc_str = f'Validation accuracy: {(epoch_validate_acc/len(val_data)):6.4f} ' if early_stopping != None else ' '\n",
        "        print(f\"\\nF1 score: {f1:.4f}\")\n",
        "        print(f\"\\nTrain loss: {epoch_train_loss:6.4f} ---- {val_loss_str}\")\n",
        "        print(f\"Train accuracy: {(epoch_train_acc/len(train_data)):6.4f} ---- {val_acc_str}\")\n",
        "\n",
        "        # early stopping\n",
        "        if early_stopping != None:\n",
        "                early_stopping(epoch_validate_loss)\n",
        "                if early_stopping.early_stop:\n",
        "                    break\n",
        "\n",
        "    return train_loss, validation_loss, train_acc, validation_acc, f1"
      ]
    },
    {
      "cell_type": "code",
      "execution_count": null,
      "metadata": {
        "id": "Dos_MLiCFOaJ"
      },
      "outputs": [],
      "source": [
        "#GRID SEARCH PER TROVARE I PARAMETRI MIGLIORI\n",
        "param_grid = {\n",
        "    \"epochs\":[20],\n",
        "    \"learning_rate\": [1e-3],\n",
        "    \"batch_size\": [32],\n",
        "    \"dropout\": [0.2],\n",
        "    \"weight_decay\": [0.0001]\n",
        "}\n",
        "\n",
        "best_f1 = 0\n",
        "best_train_loss = 0\n",
        "best_val_loss = 0\n",
        "best_train_acc = 0\n",
        "best_val_acc = 0\n",
        "best_params={}\n",
        "f1_value=0\n",
        "\n",
        "grid = ParameterGrid(param_grid)\n",
        "for params in grid:\n",
        "  print(\"----------------------------------------------------------------\")\n",
        "  print(params)\n",
        "  # Acquisiamo il device su cui effettueremo il training\n",
        "  device = torch.device(\"cuda\" if torch.cuda.is_available() else \"cpu\")\n",
        "  print(f\"Using {device} device\")\n",
        "\n",
        "  model = ClassifierDeep(numLabels,\n",
        "                      hyperparameters[\"h_dim\"],\n",
        "                      params[\"dropout\"],\n",
        "                      hyperparameters[\"language_model\"]).to(device)\n",
        "\n",
        "  print(model)\n",
        "\n",
        "  # Calcoliamo il numero totale dei parametri del modello\n",
        "  total_params = sum(p.numel() for p in model.parameters())\n",
        "  print(f\"Numero totale dei parametri: {total_params}\")\n",
        "\n",
        "  criterion = nn.CrossEntropyLoss()\n",
        "  optimizer = AdamW(model.parameters(), lr=params[\"learning_rate\"], weight_decay=params[\"weight_decay\"])\n",
        "  scheduler = torch.optim.lr_scheduler.LinearLR(optimizer=optimizer, start_factor=1, end_factor=0.1, total_iters=5)\n",
        "\n",
        "  # Creiamo la callback di early stopping da passare al nostro metodo di addestramento\n",
        "  early_stopping = EarlyStopping(patience=hyperparameters['patience'], min_delta=hyperparameters['min_delta'])\n",
        "\n",
        "\n",
        "\n",
        "\n",
        "  train_loss, validation_loss, train_acc, validation_acc, f1_value = train_test(model,\n",
        "                                                                                params['epochs'],\n",
        "                                                                                optimizer, device, train_dataset,\n",
        "                                                                                params['batch_size'], hyperparameters['language_model'],\n",
        "                                                                                criterion, criterion, early_stopping,val_dataset, scheduler=scheduler)\n",
        "\n",
        "  if f1_value > best_f1:\n",
        "    best_f1 = f1_value\n",
        "    best_params = copy.deepcopy(params)\n",
        "    best_train_loss = train_loss\n",
        "    best_val_loss = validation_loss\n",
        "    best_train_acc = train_acc\n",
        "    best_val_acc = validation_acc\n",
        "\n",
        "torch.cuda.empty_cache()"
      ]
    },
    {
      "cell_type": "code",
      "execution_count": null,
      "metadata": {
        "id": "1obPVixjFOaK"
      },
      "outputs": [],
      "source": [
        "print(\"Parametri best F1:\\n\")\n",
        "print(f\"F1 score: {best_f1:.4f}\\n\")\n",
        "print(f\"Iperparametri migliori: {params}\\n\")"
      ]
    },
    {
      "cell_type": "code",
      "execution_count": null,
      "metadata": {
        "id": "F6cNZDeawBfC"
      },
      "outputs": [],
      "source": [
        "fig, axs = plt.subplots(1, 2, figsize=(20, 10))\n",
        "\n",
        "axs[0].plot(best_train_loss, label='training loss')\n",
        "axs[0].plot(best_val_loss, label='validation loss')\n",
        "axs[0].legend(loc='upper right')\n",
        "axs[0].set_ylim(0,1)\n",
        "\n",
        "axs[1].plot(best_train_acc, label='training accuracy')\n",
        "axs[1].plot(best_val_acc, label='validation accuracy')\n",
        "axs[1].legend(loc='lower right')\n",
        "axs[1].set_ylim(0,1)"
      ]
    },
    {
      "cell_type": "code",
      "source": [
        "torch.save(model, \"modello_completo.pth\")\n"
      ],
      "metadata": {
        "id": "bqPKDYvXRx_A"
      },
      "execution_count": null,
      "outputs": []
    },
    {
      "cell_type": "code",
      "source": [
        "torch.save(model.state_dict(), \"modello_pesi.pth\")\n"
      ],
      "metadata": {
        "id": "22gh9dI4R0wC"
      },
      "execution_count": null,
      "outputs": []
    },
    {
      "cell_type": "code",
      "source": [],
      "metadata": {
        "id": "osD8vOUrV69j"
      },
      "execution_count": null,
      "outputs": []
    },
    {
      "cell_type": "code",
      "source": [],
      "metadata": {
        "id": "PQycPT3bpDPN"
      },
      "execution_count": null,
      "outputs": []
    },
    {
      "cell_type": "code",
      "source": [],
      "metadata": {
        "id": "NYufLagzpDNR"
      },
      "execution_count": null,
      "outputs": []
    },
    {
      "cell_type": "code",
      "source": [],
      "metadata": {
        "id": "kNqb_d_xpDK1"
      },
      "execution_count": null,
      "outputs": []
    },
    {
      "cell_type": "code",
      "source": [],
      "metadata": {
        "id": "vwQKGXNkpDHd"
      },
      "execution_count": null,
      "outputs": []
    },
    {
      "cell_type": "code",
      "source": [
        "tweet = \"Shit getting me irritated 😠\"\n",
        "print(\"Tweet originale:\", tweet)\n",
        "print(\"Tweet parafrasato:\", paraphrase_text(tweet))\n"
      ],
      "metadata": {
        "id": "aGFxKGMlpJq1"
      },
      "execution_count": null,
      "outputs": []
    }
  ],
  "metadata": {
    "colab": {
      "provenance": [],
      "gpuType": "T4"
    },
    "kernelspec": {
      "display_name": "Python 3",
      "name": "python3"
    },
    "language_info": {
      "codemirror_mode": {
        "name": "ipython",
        "version": 3
      },
      "file_extension": ".py",
      "mimetype": "text/x-python",
      "name": "python",
      "nbconvert_exporter": "python",
      "pygments_lexer": "ipython3",
      "version": "3.10.11"
    },
    "accelerator": "GPU"
  },
  "nbformat": 4,
  "nbformat_minor": 0
}